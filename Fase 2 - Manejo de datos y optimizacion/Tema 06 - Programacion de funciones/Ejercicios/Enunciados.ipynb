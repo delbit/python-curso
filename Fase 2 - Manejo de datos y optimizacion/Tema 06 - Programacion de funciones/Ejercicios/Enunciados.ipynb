{
 "cells": [
  {
   "cell_type": "markdown",
   "metadata": {},
   "source": [
    "# Tema 06: Programación de funciones (Enunciados)\n",
    "*Nota: Estos ejercicios son optativos para hacer al final de la unidad y están pensados para apoyar tu aprendizaje*."
   ]
  },
  {
   "cell_type": "markdown",
   "metadata": {},
   "source": [
    "**1) Realiza una función llamada area_rectangulo() que devuelva el área del rectangulo a partir de una base y una altura. Calcula el área de un rectángulo de 15 de base y 10 de altura.**\n",
    "\n",
    "*Nota: El área de un rectángulo se obtiene al multiplicar la base por la altura.*"
   ]
  },
  {
   "cell_type": "code",
   "execution_count": 44,
   "metadata": {},
   "outputs": [
    {
     "name": "stdout",
     "output_type": "stream",
     "text": [
      "Area del rectangulo: 150\n"
     ]
    }
   ],
   "source": [
    "# Completa el ejercicio aquí\n",
    "def area_rectangulo(base, altura):\n",
    "    return base * altura\n",
    "    \n",
    "print('Area del rectangulo:',area_rectangulo(15,10))"
   ]
  },
  {
   "cell_type": "markdown",
   "metadata": {},
   "source": [
    "**2) Realiza una función llamada area_circulo() que devuelva el área de un círculo a partir de un radio. Calcula el área de un círculo de 5 de radio: **\n",
    "\n",
    "Nota: El área de un círculo se obtiene al elevar el radio a dos y multiplicando el resultado por el número pi. Puedes utilizar el valor 3.14159 como pi o importarlo del módulo math:\n",
    "```python\n",
    "import math\n",
    "print(math.pi)\n",
    "> 3.1415...\n",
    "```"
   ]
  },
  {
   "cell_type": "code",
   "execution_count": 45,
   "metadata": {},
   "outputs": [
    {
     "name": "stdout",
     "output_type": "stream",
     "text": [
      "El area de un circulo de radio 5 es: 78.53981633974483\n"
     ]
    }
   ],
   "source": [
    "# Completa el ejercicio aquí\n",
    "import math\n",
    "#print(math.pi)\n",
    "\n",
    "def area_circulo(radio):\n",
    "    area = (radio ** 2) * math.pi\n",
    "    return area\n",
    "\n",
    "print('El area de un circulo de radio 5 es:', area_circulo(5))"
   ]
  },
  {
   "cell_type": "markdown",
   "metadata": {},
   "source": [
    "**3) Realiza una función llamada relacion() que a partir de dos números cumpla lo siguiente**:\n",
    "\n",
    "* Si el primer número es mayor que el segundo, debe devolver 1.\n",
    "* Si el primer número es menor que el segundo, debe devolver -1.\n",
    "* Si ambos números son iguales, debe devolver un 0.\n",
    "\n",
    "** Comprueba la relación entre los números: '5 y 10', '10 y 5' y '5 y 5'**"
   ]
  },
  {
   "cell_type": "code",
   "execution_count": 9,
   "metadata": {},
   "outputs": [
    {
     "name": "stdout",
     "output_type": "stream",
     "text": [
      "-1\n",
      "1\n",
      "0\n"
     ]
    }
   ],
   "source": [
    "# Completa el ejercicio aquí\n",
    "def relacion(a, b):\n",
    "    if a > b:\n",
    "        return 1\n",
    "    elif b > a:\n",
    "        return -1\n",
    "    else:\n",
    "        return 0\n",
    "\n",
    "print( relacion(5, 10) )\n",
    "print( relacion(10, 5) )\n",
    "print( relacion(5, 5) )"
   ]
  },
  {
   "cell_type": "markdown",
   "metadata": {},
   "source": [
    "**4) Realiza una función llamada intermedio() que a partir de dos números, devuelva su punto intermedio:**\n",
    "\n",
    "*Nota: El número intermedio de dos números corresponde a la suma de los dos números dividida entre 2*\n",
    "\n",
    "** Comprueba el punto intermedio entre -12 y 24**"
   ]
  },
  {
   "cell_type": "code",
   "execution_count": 11,
   "metadata": {},
   "outputs": [
    {
     "name": "stdout",
     "output_type": "stream",
     "text": [
      "El punto medio de -12 y 24 es: 6.0\n"
     ]
    }
   ],
   "source": [
    "# Completa el ejercicio aquí\n",
    "def intermedio(a, b):\n",
    "    medio = (a + b) / 2\n",
    "    return medio\n",
    "print('El punto medio de -12 y 24 es:',(intermedio(-12, 24)))"
   ]
  },
  {
   "cell_type": "markdown",
   "metadata": {},
   "source": [
    "**5) Realiza una función llamada recortar() que reciba tres parámetros. El primero es el número a recortar, el segundo es el límite inferior y el tercero el límite superior. La función tendrá que cumplir lo siguiente:**\n",
    "\n",
    "* Devolver el límite inferior si el número es menor que éste\n",
    "* Devolver el límite superior si el número es mayor que éste.\n",
    "* Devolver el número sin cambios si no se supera ningún límite.\n",
    "\n",
    "** Comprueba el resultado de recortar 15 entre los límites 0 y 10**"
   ]
  },
  {
   "cell_type": "code",
   "execution_count": 16,
   "metadata": {},
   "outputs": [
    {
     "name": "stdout",
     "output_type": "stream",
     "text": [
      "Vamos a recortar el numero 15 entre lo limites 0 y 15: 10\n"
     ]
    }
   ],
   "source": [
    "# Completa el ejercicio aquí\n",
    "def recortar(numero, limite_inf, limite_sup):\n",
    "    if numero > limite_sup:\n",
    "        return limite_sup\n",
    "    elif numero < limite_inf:\n",
    "        return limite_inf\n",
    "    else:\n",
    "        return numero\n",
    "\n",
    "print('Vamos a recortar el numero 15 entre lo limites 0 y 15:',recortar(15, 0, 10))"
   ]
  },
  {
   "cell_type": "markdown",
   "metadata": {},
   "source": [
    "**6) Realiza una función separar() que tome una lista de números enteros y devuelva dos listas ordenadas. La primera con los números pares, y la segunda con los números impares:**\n",
    "\n",
    "Por ejemplo: \n",
    "\n",
    "```python\n",
    "pares, impares = separar([6,5,2,1,7])\n",
    "print(pares)   # valdría [2, 6]\n",
    "print(impares)  # valdría [1, 5, 7]\n",
    "\n",
    "```\n",
    "\n",
    "*Nota: Para ordenar una lista automáticamente puedes usar el método .sort().*"
   ]
  },
  {
   "cell_type": "code",
   "execution_count": 41,
   "metadata": {},
   "outputs": [
    {
     "name": "stdout",
     "output_type": "stream",
     "text": [
      "Lista original: [-12, 84, 13, 20, -33, 101, 9]\n",
      "Lista separada ordenada, par: [-12, 20, 84]\n",
      "Lista separada ordenada, impar: [-33, 9, 13, 101]\n"
     ]
    }
   ],
   "source": [
    "numeros = [-12, 84, 13, 20, -33, 101, 9]\n",
    "lista_par = []\n",
    "lista_impar = []\n",
    "# Completa el ejercicio aquí\n",
    "\n",
    "def separar(lista):\n",
    "    lista.sort()\n",
    "    lista_par_local = []\n",
    "    lista_impar_local = []\n",
    "    \n",
    "    for numero in lista:\n",
    "        \n",
    "        if numero % 2 == 0:\n",
    "            lista_par_local.append(numero)\n",
    "        else:\n",
    "            lista_impar_local.append(numero)\n",
    "    \n",
    "    return lista_par_local, lista_impar_local\n",
    "\n",
    "lista_par, lista_impar = separar(numeros[:])\n",
    "print('Lista original:',numeros)\n",
    "print('Lista separada ordenada, par:',lista_par)\n",
    "print('Lista separada ordenada, impar:',lista_impar)\n"
   ]
  },
  {
   "cell_type": "code",
   "execution_count": null,
   "metadata": {
    "collapsed": true
   },
   "outputs": [],
   "source": []
  }
 ],
 "metadata": {
  "anaconda-cloud": {},
  "kernelspec": {
   "display_name": "Python 3",
   "language": "python",
   "name": "python3"
  },
  "language_info": {
   "codemirror_mode": {
    "name": "ipython",
    "version": 3
   },
   "file_extension": ".py",
   "mimetype": "text/x-python",
   "name": "python",
   "nbconvert_exporter": "python",
   "pygments_lexer": "ipython3",
   "version": "3.6.1"
  }
 },
 "nbformat": 4,
 "nbformat_minor": 1
}
