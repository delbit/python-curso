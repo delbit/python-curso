{
 "cells": [
  {
   "cell_type": "markdown",
   "metadata": {},
   "source": [
    "# Tema 04: Colecciones de datos (Enunciados)\n",
    "*Nota: Estos ejercicios son optativos para hacer al final de la unidad y están pensados para apoyar tu aprendizaje*."
   ]
  },
  {
   "cell_type": "markdown",
   "metadata": {},
   "source": [
    "**1) Realiza un programa que siga las siguientes instrucciones:**\n",
    "* Crea un conjunto llamado usuarios con los usuarios Marta, David, Elvira, Juan y Marcos\n",
    "* Crea un conjunto llamado administradores con los administradores Juan y Marta.\n",
    "* Borra al administrador Juan del conjunto de administradores.\n",
    "* Añade a Marcos como un nuevo administrador, pero no lo borres del conjunto de usuarios.\n",
    "* Muestra todos los usuarios por pantalla de forma dinámica, además debes indicar cada usuario es administrador o no.\n",
    "\n",
    "*Notas: Los conjuntos se pueden recorrer dinámicamente utilizando el bucle for de forma similar a una lista. También cuentan con un método llamado **.discard(elemento)** que sirve para borrar un elemento.* "
   ]
  },
  {
   "cell_type": "code",
   "execution_count": 3,
   "metadata": {},
   "outputs": [
    {
     "name": "stdout",
     "output_type": "stream",
     "text": [
      "Marta Es administrador\n",
      "Elvira No es administrador\n",
      "Juan No es administrador\n",
      "David No es administrador\n",
      "Marcos Es administrador\n"
     ]
    }
   ],
   "source": [
    "# Completa el ejercicio aquí\n",
    "\n",
    "usuarios = {'Marta', 'David', 'Elvira', 'Juan', 'Marcos'}\n",
    "administradores = {'Juan', 'Marta'}\n",
    "administradores.discard('Juan')\n",
    "administradores.add('Marcos')\n",
    "\n",
    "for usuario in usuarios:\n",
    "    if usuario not in administradores:\n",
    "        print(usuario, 'No es administrador')\n",
    "    else:\n",
    "        print(usuario, 'Es administrador')"
   ]
  },
  {
   "cell_type": "markdown",
   "metadata": {},
   "source": [
    "**2) Durante el desarrollo de un pequeño videojuego se te encarga configurar y balancear cada clase de personaje jugable. Partiendo que la estadística base es 2, debes cumplir las siguientes condiciones: **\n",
    "* El caballero tiene el doble de vida y defensa que un guerrero.\n",
    "* El guerrero tiene el doble de ataque y alcance que un caballero.\n",
    "* El arquero tiene la misma vida y ataque que un guerrero, pero la mitad de su defensa y el doble de su alcance.\n",
    "* Muestra como quedan las propiedades de los tres personajes."
   ]
  },
  {
   "cell_type": "code",
   "execution_count": 10,
   "metadata": {},
   "outputs": [
    {
     "name": "stdout",
     "output_type": "stream",
     "text": [
      "El Caballero: \t {'vida': 4, 'ataque': 2, 'defensa': 4, 'alcance': 2}\n",
      "El Guerrero: \t {'vida': 2, 'ataque': 4, 'defensa': 2, 'alcance': 4}\n",
      "El Arquero: \t {'vida': 2, 'ataque': 4, 'defensa': 1.0, 'alcance': 8}\n",
      "\n",
      "El Caballero\n",
      "vida 4\n",
      "ataque 2\n",
      "defensa 4\n",
      "alcance 2\n",
      "\n",
      "El Guerrero\n",
      "vida 2\n",
      "ataque 4\n",
      "defensa 2\n",
      "alcance 4\n",
      "\n",
      "El Arquero\n",
      "vida 2\n",
      "ataque 4\n",
      "defensa 1.0\n",
      "alcance 8\n"
     ]
    }
   ],
   "source": [
    "caballero = { 'vida':2, 'ataque':2, 'defensa': 2, 'alcance':2 }\n",
    "guerrero  = { 'vida':2, 'ataque':2, 'defensa': 2, 'alcance':2 }\n",
    "arquero   = { 'vida':2, 'ataque':2, 'defensa': 2, 'alcance':2 }\n",
    "\n",
    "# Completa el ejercicio aquí\n",
    "\n",
    "caballero['vida'] = (2 * guerrero['vida'])\n",
    "caballero['defensa'] = (2 * guerrero['defensa'])\n",
    "guerrero['ataque'] = ( 2 * caballero['ataque'])\n",
    "guerrero['alcance'] = ( 2 * caballero['alcance'])\n",
    "arquero['vida'] = guerrero['vida']\n",
    "arquero['ataque'] = guerrero['ataque']\n",
    "arquero['defensa'] = (guerrero['defensa'] / 2)\n",
    "arquero['alcance'] = ( 2 * guerrero['alcance'])\n",
    "\n",
    "\n",
    "print('El Caballero: \\t', caballero)\n",
    "print('El Guerrero: \\t', guerrero)\n",
    "print('El Arquero: \\t', arquero)\n",
    "\n",
    "print('\\nEl Caballero')\n",
    "for clave, atributo in caballero.items():\n",
    "    print(clave, atributo)\n",
    "   \n",
    "print('\\nEl Guerrero')\n",
    "for clave, atributo in guerrero.items():\n",
    "    print(clave, atributo)\n",
    "   \n",
    "print('\\nEl Arquero')\n",
    "for clave, atributo in arquero.items():\n",
    "    print(clave, atributo)"
   ]
  },
  {
   "cell_type": "markdown",
   "metadata": {},
   "source": [
    "**3) Durante la planificación de un proyecto se han acordado una lista de tareas. Para cada una de estas tareas se ha asignado un orden de prioridad (cuanto menor es el número de orden, más prioridad).**\n",
    "\n",
    "**¿Eres capaz de crear una estructura del tipo cola con todas las tareas ordenadas pero sin los números de orden?**\n",
    "\n",
    "Pista: Para ordenar automáticamente una lista es posible utilizar el método .sort()."
   ]
  },
  {
   "cell_type": "code",
   "execution_count": 9,
   "metadata": {},
   "outputs": [
    {
     "name": "stdout",
     "output_type": "stream",
     "text": [
      "==Tareas desordenadas==\n",
      "6 Distribución\n",
      "2 Diseño\n",
      "1 Concepción\n",
      "7 Mantenimiento\n",
      "4 Producción\n",
      "3 Planificación\n",
      "5 Pruebas\n",
      "\n",
      "\n",
      "\n",
      "1 Concepción\n",
      "2 Diseño\n",
      "3 Planificación\n",
      "4 Producción\n",
      "5 Pruebas\n",
      "6 Distribución\n",
      "7 Mantenimiento\n",
      "\n",
      "\n",
      "\n",
      "Concepción\n",
      "Diseño\n",
      "Planificación\n",
      "Producción\n",
      "Pruebas\n",
      "Distribución\n",
      "Mantenimiento\n",
      "\n",
      " deque(['Concepción', 'Diseño', 'Planificación', 'Producción', 'Pruebas', 'Distribución', 'Mantenimiento'])\n"
     ]
    }
   ],
   "source": [
    "tareas = [ \n",
    "    [6, 'Distribución'],\n",
    "    [2, 'Diseño'],\n",
    "    [1, 'Concepción'],\n",
    "    [7, 'Mantenimiento'],\n",
    "    [4, 'Producción'],\n",
    "    [3, 'Planificación'],\n",
    "    [5, 'Pruebas']\n",
    "]\n",
    "\n",
    "\n",
    "print(\"==Tareas desordenadas==\")\n",
    "for tarea in tareas:\n",
    "    print(tarea[0], tarea[1])\n",
    "\n",
    "# Completa el ejercicio aquí\n",
    "from collections import deque\n",
    "\n",
    "tareas.sort()\n",
    "print('\\n\\n')\n",
    "\n",
    "for tarea in tareas:\n",
    "    print(tarea[0], tarea[1])\n",
    "\n",
    "cola = deque()\n",
    "for tarea in tareas:\n",
    "    cola.append(tarea[1])\n",
    "    \n",
    "print('\\n\\n')\n",
    "\n",
    "for tarea in cola:\n",
    "    print(tarea)\n",
    "    \n",
    "print('\\n', cola)"
   ]
  },
  {
   "cell_type": "code",
   "execution_count": null,
   "metadata": {
    "collapsed": true
   },
   "outputs": [],
   "source": []
  }
 ],
 "metadata": {
  "anaconda-cloud": {},
  "kernelspec": {
   "display_name": "Python 3",
   "language": "python",
   "name": "python3"
  },
  "language_info": {
   "codemirror_mode": {
    "name": "ipython",
    "version": 3
   },
   "file_extension": ".py",
   "mimetype": "text/x-python",
   "name": "python",
   "nbconvert_exporter": "python",
   "pygments_lexer": "ipython3",
   "version": "3.6.1"
  }
 },
 "nbformat": 4,
 "nbformat_minor": 1
}
