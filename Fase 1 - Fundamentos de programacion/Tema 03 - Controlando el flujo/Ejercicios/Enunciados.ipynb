{
 "cells": [
  {
   "cell_type": "markdown",
   "metadata": {},
   "source": [
    "# Tema 03: Control de flujo (Enunciados)\n",
    "*Nota: Estos ejercicios son optativos para hacer al final de la unidad y están pensados para apoyar tu aprendizaje*."
   ]
  },
  {
   "cell_type": "markdown",
   "metadata": {},
   "source": [
    "**1) Realiza un programa que lea dos números por teclado y permita elegir entre 3 opciones en un menú:** \n",
    "* Mostrar una suma de los dos números\n",
    "* Mostrar una resta de los dos números (el primero menos el segundo)\n",
    "* Mostrar una multiplicación de los dos números\n",
    "* En caso de no introducir una opción válida, el programa informará de que no es correcta."
   ]
  },
  {
   "cell_type": "code",
   "execution_count": 5,
   "metadata": {},
   "outputs": [
    {
     "name": "stdout",
     "output_type": "stream",
     "text": [
      "Introduzca el numero 1: 2\n",
      "Introduzca el numero 2: 3\n",
      "\n",
      "    1.) Realizar la suma de dos numeros\n",
      "    2.) Realizar la resta de dos numeros\n",
      "    3.) Realizar la multiplicacion de dos numeros\n",
      "    4.) Salir\n",
      "Introduzca la opcion: 4\n",
      "Adios\n"
     ]
    }
   ],
   "source": [
    "# Completa el ejercicio aquí\n",
    "\n",
    "num_1 =float(input(\"Introduzca el numero 1: \"))\n",
    "num_2 =float(input(\"Introduzca el numero 2: \"))\n",
    "\n",
    "while True:\n",
    "    \n",
    "    print(\"\"\"\n",
    "    1.) Realizar la suma de dos numeros\n",
    "    2.) Realizar la resta de dos numeros\n",
    "    3.) Realizar la multiplicacion de dos numeros\n",
    "    4.) Salir\"\"\")\n",
    "\n",
    "    opcion =int(input(\"Introduzca la opcion: \"))\n",
    "\n",
    "    if opcion == 1:\n",
    "        print(\"La suma es:\",num_1 + num_2)\n",
    "    \n",
    "    elif opcion == 2:\n",
    "        print(\"La resta es:\",num_1 - num_2)\n",
    "        \n",
    "    elif opcion == 3:\n",
    "        print(\"La multiplicacion es:\",num_1 * num_2)\n",
    "    \n",
    "    elif opcion == 4:\n",
    "        print(\"Adios\")\n",
    "        break\n",
    "    else:\n",
    "        print(\"Opcion incorrecta\")\n",
    "        "
   ]
  },
  {
   "cell_type": "markdown",
   "metadata": {},
   "source": [
    "**2) Realiza un programa que lea un número impar por teclado. Si el usuario no introduce un número impar, debe repetise el proceso hasta que lo introduzca correctamente.**"
   ]
  },
  {
   "cell_type": "code",
   "execution_count": 10,
   "metadata": {},
   "outputs": [
    {
     "name": "stdout",
     "output_type": "stream",
     "text": [
      "Introduzca un numero impar: 4.0\n",
      "Intente de nuevo\n",
      "Introduzca un numero impar: 9.9\n",
      "9.9 Es impar\n"
     ]
    }
   ],
   "source": [
    "# Completa el ejercicio aquí\n",
    "num = 0\n",
    "\n",
    "while num % 2 == 0:\n",
    "    \n",
    "    num =float(input(\"Introduzca un numero impar: \"))\n",
    "    \n",
    "    if num % 2 != 0:\n",
    "        print(num, \"Es impar\")\n",
    "    else:\n",
    "        print(\"Intente de nuevo\")\n"
   ]
  },
  {
   "cell_type": "markdown",
   "metadata": {},
   "source": [
    "**3) Realiza un programa que sume todos los números enteros pares desde el 0 hasta el 100:**\n",
    "\n",
    "*Sugerencia: Puedes utilizar la funciones sum() y range() para hacerlo más fácil. El tercer parámetro en la función range(inicio, fin, salto) indica un salto de números, pruébalo.*"
   ]
  },
  {
   "cell_type": "code",
   "execution_count": 14,
   "metadata": {},
   "outputs": [
    {
     "data": {
      "text/plain": [
       "2550"
      ]
     },
     "execution_count": 14,
     "metadata": {},
     "output_type": "execute_result"
    }
   ],
   "source": [
    "# Completa el ejercicio aquí\n",
    "\n",
    "sum(list(range(0, 100 + 1, 2)))"
   ]
  },
  {
   "cell_type": "markdown",
   "metadata": {},
   "source": [
    "**4) Realiza un programa que pida al usuario cuantos números quiere introducir. Luego lee todos los números y realiza una media aritmética:**\n"
   ]
  },
  {
   "cell_type": "code",
   "execution_count": 36,
   "metadata": {},
   "outputs": [
    {
     "name": "stdout",
     "output_type": "stream",
     "text": [
      "Cuantos numeros quieres ingresar: 5\n",
      "Ingresa el numero 1 :1\n",
      "Ingresa el numero 2 :2\n",
      "Ingresa el numero 3 :3\n",
      "Ingresa el numero 4 :4\n",
      "Ingresa el numero 5 :5\n",
      "Media de los numeros ingresados: 3.0\n"
     ]
    }
   ],
   "source": [
    "# Completa el ejercicio aquí\n",
    "\n",
    "cantidad = int(input(\"Cuantos numeros quieres ingresar: \"))\n",
    "\n",
    "suma = 0\n",
    "\n",
    "for contador in range(cantidad):\n",
    "    numero = int(input('Ingresa el numero {} :'.format(contador + 1)))\n",
    "    suma += numero\n",
    "    \n",
    "print(\"Media de los numeros ingresados:\", suma / cantidad)\n",
    "\n"
   ]
  },
  {
   "cell_type": "markdown",
   "metadata": {},
   "source": [
    "**5) Realiza un programa que pida al usuario un número entero del 0 al 9, y que mientras el número no sea correcto se repita el proceso. Luego debe comprobar si el número se encuentra en la lista de números y notificarlo:**\n",
    "\n",
    "*Consejo: La sintaxis \"valor in lista\" permite comprobar fácilmente si un valor se encuentra en una lista (devuelve True o False)*"
   ]
  },
  {
   "cell_type": "code",
   "execution_count": 38,
   "metadata": {},
   "outputs": [
    {
     "name": "stdout",
     "output_type": "stream",
     "text": [
      "Ingrese un numero entre 0 y 9: 6\n",
      "El valor ingresado se encuentra en la lista\n"
     ]
    }
   ],
   "source": [
    "# Completa el ejercicio aquí\n",
    "numeros = [1, 3, 6, 9]\n",
    "\n",
    "valor = -1\n",
    "\n",
    "while valor < 0 or valor > 9:\n",
    "    valor = int(input('Ingrese un numero entre 0 y 9: '))\n",
    "\n",
    "if valor in numeros:\n",
    "    print(\"El valor ingresado se encuentra en la lista\")\n",
    "else:\n",
    "    print(\"El valor ingresado NO se encuentra en la lista\")\n"
   ]
  },
  {
   "cell_type": "markdown",
   "metadata": {},
   "source": [
    "**6) Utilizando la función range() y la conversión a listas genera las siguientes listas dinámicamente:**\n",
    "* Todos los números del 0 al 10 [0, 1, 2, ..., 10]\n",
    "* Todos los números del -10 al 0 [-10, -9, -8, ..., 0]\n",
    "* Todos los números pares del 0 al 20 [0, 2, 4, ..., 20]\n",
    "* Todos los números impares entre -20 y 0 [-19, -17, -15, ..., -1]\n",
    "* Todos los números múltiples de 5 del 0 al 50 [0, 5, 10, ..., 50]\n",
    "\n",
    "*Pista: Utiliza el tercer parámetro de la función range(inicio, fin, salto).*"
   ]
  },
  {
   "cell_type": "code",
   "execution_count": 48,
   "metadata": {},
   "outputs": [
    {
     "name": "stdout",
     "output_type": "stream",
     "text": [
      "[0, 1, 2, 3, 4, 5, 6, 7, 8, 9, 10]\n",
      "[-10, -9, -8, -7, -6, -5, -4, -3, -2, -1, 0]\n",
      "[0, 2, 4, 6, 8, 10, 12, 14, 16, 18, 20]\n",
      "[-19, -17, -15, -13, -11, -9, -7, -5, -3, -1]\n",
      "[0, 5, 10, 15, 20, 25, 30, 35, 40, 45, 50]\n"
     ]
    }
   ],
   "source": [
    "# Completa el ejercicio\n",
    "\n",
    "\n",
    "print(list(range(0, 10 + 1)))\n",
    "print(list(range(-10, 1, 1)))\n",
    "print(list(range(0, 20 + 1, 2)))\n",
    "print(list(range(-19 , 0, 2)))\n",
    "print(list(range(0, 50 + 1, 5)))"
   ]
  },
  {
   "cell_type": "markdown",
   "metadata": {},
   "source": [
    "**7) Dadas dos listas, debes generar una tercera con todos los elementos que se repitan en ellas, pero no debe repetise ningún elemento en la nueva lista:**"
   ]
  },
  {
   "cell_type": "code",
   "execution_count": 45,
   "metadata": {},
   "outputs": [
    {
     "name": "stdout",
     "output_type": "stream",
     "text": [
      "[0, 2, 4, 6, 8, 10]\n"
     ]
    }
   ],
   "source": [
    "# Completa el ejercicio aquí\n",
    "\n",
    "lista_1 = [0, 1, 2, 2, 3, 4, 5, 6, 7, 8, 9, 10]\n",
    "lista_2 = [0, 2, 4, 6, 8, 10, 12, 14, 16, 18, 20]\n",
    "lista_3 = []\n",
    "\n",
    "for valor in lista_1:\n",
    "    if valor in lista_2 and not(valor in lista_3):\n",
    "        lista_3.append(valor)\n",
    "\n",
    "print(lista_3)\n",
    "        \n"
   ]
  },
  {
   "cell_type": "code",
   "execution_count": null,
   "metadata": {
    "collapsed": true
   },
   "outputs": [],
   "source": []
  }
 ],
 "metadata": {
  "anaconda-cloud": {},
  "kernelspec": {
   "display_name": "Python 3",
   "language": "python",
   "name": "python3"
  },
  "language_info": {
   "codemirror_mode": {
    "name": "ipython",
    "version": 3
   },
   "file_extension": ".py",
   "mimetype": "text/x-python",
   "name": "python",
   "nbconvert_exporter": "python",
   "pygments_lexer": "ipython3",
   "version": "3.6.1"
  }
 },
 "nbformat": 4,
 "nbformat_minor": 1
}
